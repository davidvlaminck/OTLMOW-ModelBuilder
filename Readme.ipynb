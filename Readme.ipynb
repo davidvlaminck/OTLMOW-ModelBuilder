{
  "metadata": {
    "kernelspec": {
      "name": "python",
      "display_name": "Python (Pyodide)",
      "language": "python"
    },
    "language_info": {
      "codemirror_mode": {
        "name": "python",
        "version": 3
      },
      "file_extension": ".py",
      "mimetype": "text/x-python",
      "name": "python",
      "nbconvert_exporter": "python",
      "pygments_lexer": "ipython3",
      "version": "3.8"
    },
    "colab": {
      "provenance": [],
      "gpuType": "T4"
    },
    "accelerator": "GPU"
  },
  "nbformat_minor": 0,
  "nbformat": 4,
  "cells": [
    {
      "cell_type": "markdown",
      "source": [
        "# Installation and requirements\n",
        "OTLMOW-ModelBuilder has a few dependencies that are automatically installed when using the pip command below."
      ],
      "metadata": {
        "id": "xHR3g4IRV983"
      }
    },
    {
      "cell_type": "code",
      "source": [
        "pip install otlmow-modelbuilder"
      ],
      "metadata": {
        "trusted": true,
        "id": "IQrVDOhX1wGc",
        "colab": {
          "base_uri": "https://localhost:8080/"
        },
        "outputId": "15c05836-8402-4a15-be8b-2ddf9ebe1282"
      },
      "outputs": [
        {
          "output_type": "stream",
          "name": "stdout",
          "text": [
            "Collecting otlmow-modelbuilder\n",
            "  Downloading otlmow_modelbuilder-0.21-py3-none-any.whl.metadata (44 kB)\n",
            "\u001b[?25l     \u001b[90m━━━━━━━━━━━━━━━━━━━━━━━━━━━━━━━━━━━━━━━━\u001b[0m \u001b[32m0.0/44.8 kB\u001b[0m \u001b[31m?\u001b[0m eta \u001b[36m-:--:--\u001b[0m\r\u001b[2K     \u001b[91m━━━━━━━━━━━━━━━━━━━━━━━━━━━━━━━━━━━━\u001b[0m\u001b[91m╸\u001b[0m\u001b[90m━━━\u001b[0m \u001b[32m41.0/44.8 kB\u001b[0m \u001b[31m70.3 MB/s\u001b[0m eta \u001b[36m0:00:01\u001b[0m\r\u001b[2K     \u001b[90m━━━━━━━━━━━━━━━━━━━━━━━━━━━━━━━━━━━━━━━━\u001b[0m \u001b[32m44.8/44.8 kB\u001b[0m \u001b[31m846.2 kB/s\u001b[0m eta \u001b[36m0:00:00\u001b[0m\n",
            "\u001b[?25hCollecting rdflib>=6.0.0 (from otlmow-modelbuilder)\n",
            "  Downloading rdflib-7.1.0-py3-none-any.whl.metadata (11 kB)\n",
            "Requirement already satisfied: tqdm>=4.66.1 in /usr/local/lib/python3.10/dist-packages (from otlmow-modelbuilder) (4.66.5)\n",
            "Collecting html5lib-modern<2.0,>=1.2 (from rdflib>=6.0.0->otlmow-modelbuilder)\n",
            "  Downloading html5lib_modern-1.2-py2.py3-none-any.whl.metadata (7.8 kB)\n",
            "Collecting isodate<1.0.0,>=0.7.2 (from rdflib>=6.0.0->otlmow-modelbuilder)\n",
            "  Downloading isodate-0.7.2-py3-none-any.whl.metadata (11 kB)\n",
            "Requirement already satisfied: pyparsing<4,>=2.1.0 in /usr/local/lib/python3.10/dist-packages (from rdflib>=6.0.0->otlmow-modelbuilder) (3.2.0)\n",
            "Downloading otlmow_modelbuilder-0.21-py3-none-any.whl (60 kB)\n",
            "\u001b[2K   \u001b[90m━━━━━━━━━━━━━━━━━━━━━━━━━━━━━━━━━━━━━━━━\u001b[0m \u001b[32m60.8/60.8 kB\u001b[0m \u001b[31m3.7 MB/s\u001b[0m eta \u001b[36m0:00:00\u001b[0m\n",
            "\u001b[?25hDownloading rdflib-7.1.0-py3-none-any.whl (562 kB)\n",
            "\u001b[2K   \u001b[90m━━━━━━━━━━━━━━━━━━━━━━━━━━━━━━━━━━━━━━━━\u001b[0m \u001b[32m562.1/562.1 kB\u001b[0m \u001b[31m16.2 MB/s\u001b[0m eta \u001b[36m0:00:00\u001b[0m\n",
            "\u001b[?25hDownloading html5lib_modern-1.2-py2.py3-none-any.whl (116 kB)\n",
            "\u001b[2K   \u001b[90m━━━━━━━━━━━━━━━━━━━━━━━━━━━━━━━━━━━━━━━━\u001b[0m \u001b[32m116.2/116.2 kB\u001b[0m \u001b[31m4.0 MB/s\u001b[0m eta \u001b[36m0:00:00\u001b[0m\n",
            "\u001b[?25hDownloading isodate-0.7.2-py3-none-any.whl (22 kB)\n",
            "Installing collected packages: isodate, html5lib-modern, rdflib, otlmow-modelbuilder\n",
            "Successfully installed html5lib-modern-1.2 isodate-0.7.2 otlmow-modelbuilder-0.21 rdflib-7.1.0\n"
          ]
        }
      ],
      "execution_count": 1
    },
    {
      "cell_type": "markdown",
      "source": [
        "To upgrade an existing installation use:"
      ],
      "metadata": {
        "id": "1Wa8wQHkWdnE"
      }
    },
    {
      "cell_type": "code",
      "source": [
        "pip install otlmow-modelbuilder --upgrade"
      ],
      "metadata": {
        "id": "5ImQoo8iWeGk",
        "outputId": "de6f71c9-eeae-4166-c4b9-9d2f487ea7d6",
        "colab": {
          "base_uri": "https://localhost:8080/"
        }
      },
      "outputs": [
        {
          "output_type": "stream",
          "name": "stdout",
          "text": [
            "Requirement already satisfied: otlmow-modelbuilder in /usr/local/lib/python3.10/dist-packages (0.21)\n",
            "Requirement already satisfied: rdflib>=6.0.0 in /usr/local/lib/python3.10/dist-packages (from otlmow-modelbuilder) (7.1.0)\n",
            "Requirement already satisfied: tqdm>=4.66.1 in /usr/local/lib/python3.10/dist-packages (from otlmow-modelbuilder) (4.66.5)\n",
            "Requirement already satisfied: html5lib-modern<2.0,>=1.2 in /usr/local/lib/python3.10/dist-packages (from rdflib>=6.0.0->otlmow-modelbuilder) (1.2)\n",
            "Requirement already satisfied: isodate<1.0.0,>=0.7.2 in /usr/local/lib/python3.10/dist-packages (from rdflib>=6.0.0->otlmow-modelbuilder) (0.7.2)\n",
            "Requirement already satisfied: pyparsing<4,>=2.1.0 in /usr/local/lib/python3.10/dist-packages (from rdflib>=6.0.0->otlmow-modelbuilder) (3.2.0)\n"
          ]
        }
      ],
      "execution_count": 2
    },
    {
      "cell_type": "markdown",
      "source": [
        "# Basic usage and code examples\n",
        "To use any of the classes in the class model, instantiate a class after importing it. In this example the Camera class is used. The import statement is needed to find the class within the file structure."
      ],
      "metadata": {
        "id": "o6X2QEVZWoFv"
      }
    },
    {
      "cell_type": "markdown",
      "source": [
        "In order to run a demo in this workbook, you'll have to download at least the OTL SQLite database, but let's also include the artifact for geometries."
      ],
      "metadata": {
        "id": "005JVs_ALXp0"
      }
    },
    {
      "cell_type": "code",
      "source": [
        "import urllib.request\n",
        "urllib.request.urlretrieve('https://wegenenverkeer.data.vlaanderen.be/doc/implementatiemodel/master/html/OTL.db', 'OTL.db')\n",
        "urllib.request.urlretrieve('https://wegenenverkeer.data.vlaanderen.be/doc/implementatiemodel/master/html/Geometrie_Artefact.db', 'Geometrie_Artefact.db')"
      ],
      "metadata": {
        "colab": {
          "base_uri": "https://localhost:8080/"
        },
        "id": "AgxV1a0OLYQG",
        "outputId": "9a558310-c32a-42cb-d998-fdc8d1b6ff71"
      },
      "execution_count": 3,
      "outputs": [
        {
          "output_type": "execute_result",
          "data": {
            "text/plain": [
              "('Geometrie_Artefact.db', <http.client.HTTPMessage at 0x787176f41210>)"
            ]
          },
          "metadata": {},
          "execution_count": 3
        }
      ]
    },
    {
      "cell_type": "markdown",
      "source": [
        "Now you can build the model from these SQLite files. It is preferred to specify a path to a directory in which the model is created. This needs to be an empty directory."
      ],
      "metadata": {
        "id": "QGc1eNuw17ie"
      }
    },
    {
      "cell_type": "code",
      "source": [
        "import logging\n",
        "from importlib import reload\n",
        "reload(logging)\n",
        "logging.basicConfig(level=logging.INFO, format='%(message)s')\n",
        "\n",
        "from pathlib import Path\n",
        "current_dir = Path('.').parent\n",
        "otl_subset_path = Path(current_dir / 'OTL.db')\n",
        "geometrie_artefact_path = Path(current_dir / 'Geometrie_Artefact.db')\n",
        "model_directory = Path(current_dir / 'OTLMOW-Model')\n",
        "\n",
        "from otlmow_modelbuilder.ModelBuilder import ModelBuilder\n",
        "ModelBuilder.build_otl_datamodel(\n",
        "    otl_subset_location=otl_subset_path, geometry_artefact_location=geometrie_artefact_path,\n",
        "    directory=model_directory)"
      ],
      "metadata": {
        "trusted": true,
        "id": "NtUXFvwF1wGe",
        "colab": {
          "base_uri": "https://localhost:8080/"
        },
        "outputId": "4ba69275-0161-4289-9365-aae1ff4fd5f9"
      },
      "outputs": [
        {
          "output_type": "stream",
          "name": "stderr",
          "text": [
            "started creating model at 24/10/2024 09:24:00\n",
            "Created an instance of OTLPrimitiveDatatypeCreator\n",
            "  0%|          | 0/65 [00:00<?, ?it/s]Skip creating class for Literal\n",
            "Skip creating class for AnyURI\n",
            "Skip creating class for Boolean\n",
            "Skip creating class for Date\n",
            "Skip creating class for DateTime\n",
            "Skip creating class for Decimal\n",
            "Skip creating class for Integer\n",
            "Skip creating class for NonNegativeInteger\n",
            "Skip creating class for String\n",
            "Skip creating class for Time\n",
            "100%|██████████| 65/65 [00:00<00:00, 2031.22it/s]\n",
            "Created an instance of OTLComplexDatatypeCreator\n",
            "100%|██████████| 65/65 [00:00<00:00, 2870.42it/s]\n",
            "Created an instance of OTLUnionDatatypeCreator\n",
            "100%|██████████| 7/7 [00:00<00:00, 2680.31it/s]\n",
            "Created an instance of OTLEnumerationCreator\n",
            "Downloaded, unzipped and parsed the enumerations ttl file\n",
            "100%|██████████| 909/909 [00:00<00:00, 1356.03it/s]\n",
            "Created an instance of OTLClassCreator\n",
            "100%|██████████| 964/964 [00:11<00:00, 83.97it/s]\n",
            "100%|██████████| 1191/1191 [00:00<00:00, 1242950.00it/s]\n",
            "finished creating model in OTLMOW-Model at 24/10/2024 09:24:25\n"
          ]
        }
      ],
      "execution_count": 4
    }
  ]
}